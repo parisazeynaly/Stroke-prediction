{
  "cells": [
    {
      "cell_type": "markdown",
      "metadata": {
        "id": "view-in-github",
        "colab_type": "text"
      },
      "source": [
        "<a href=\"https://colab.research.google.com/github/parisazeynaly/Stroke-prediction/blob/main/stroke_prediction.ipynb\" target=\"_parent\"><img src=\"https://colab.research.google.com/assets/colab-badge.svg\" alt=\"Open In Colab\"/></a>"
      ]
    },
    {
      "cell_type": "markdown",
      "metadata": {
        "id": "TMMONWcuqLQk"
      },
      "source": [
        "## Stroke Prediction"
      ]
    },
    {
      "cell_type": "markdown",
      "metadata": {
        "id": "vCBIptw-qLQo"
      },
      "source": [
        "#### Our top priority in this health problem is to identify patients with a stroke."
      ]
    },
    {
      "cell_type": "markdown",
      "metadata": {
        "id": "QVbKtsYuqLQp"
      },
      "source": [
        "According to the World Health Organization (WHO) stroke is the 2nd leading cause of death globally, responsible for approximately 11% of total deaths.<br>\n",
        "This dataset is used to predict whether a patient is likely to get stroke based on the input parameters like gender, age, various diseases, and smoking status. Each row in the data provides relavant information about the patient.."
      ]
    },
    {
      "cell_type": "markdown",
      "metadata": {
        "id": "iaofPchfqLQr"
      },
      "source": [
        "<b>Attribute Information</b>\n",
        "\n",
        "1) id: unique identifier<br>\n",
        "2) gender: \"Male\", \"Female\" or \"Other\"<br>\n",
        "3) age: age of the patient<br>\n",
        "4) hypertension: 0 if the patient doesn't have hypertension, 1 if the patient has hypertension<br>\n",
        "5) heart_disease: 0 if the patient doesn't have any heart diseases, 1 if the patient has a heart disease<br>\n",
        "6) ever_married: \"No\" or \"Yes\"<br>\n",
        "7) work_type: \"children\", \"Govt_jov\", \"Never_worked\", \"Private\" or \"Self-employed\"<br>\n",
        "8) Residence_type: \"Rural\" or \"Urban\"<br>\n",
        "9) avg_glucose_level: average glucose level in blood<br>\n",
        "10) bmi: body mass index<br>\n",
        "11) smoking_status: \"formerly smoked\", \"never smoked\", \"smokes\" or \"Unknown\"*<br>\n",
        "12) stroke: 1 if the patient had a stroke or 0 if not<br>\n",
        "*Note: \"Unknown\" in smoking_status means that the information is unavailable for this patient<br>"
      ]
    },
    {
      "cell_type": "code",
      "source": [
        "!git clone https://github.com/parisazeynaly/Stroke-prediction.git"
      ],
      "metadata": {
        "colab": {
          "base_uri": "https://localhost:8080/"
        },
        "id": "EtpYjSVv-X-v",
        "outputId": "1cb67a26-cdc2-4fde-dc5a-0a6ef1ffa9b9"
      },
      "execution_count": 1,
      "outputs": [
        {
          "output_type": "stream",
          "name": "stdout",
          "text": [
            "Cloning into 'Stroke-prediction'...\n",
            "remote: Enumerating objects: 154, done.\u001b[K\n",
            "remote: Counting objects: 100% (154/154), done.\u001b[K\n",
            "remote: Compressing objects: 100% (119/119), done.\u001b[K\n",
            "remote: Total 154 (delta 63), reused 92 (delta 25), pack-reused 0 (from 0)\u001b[K\n",
            "Receiving objects: 100% (154/154), 1.61 MiB | 8.10 MiB/s, done.\n",
            "Resolving deltas: 100% (63/63), done.\n"
          ]
        }
      ]
    },
    {
      "cell_type": "markdown",
      "metadata": {
        "id": "QyoUtUnHqLQs"
      },
      "source": [
        "### Import libraries"
      ]
    },
    {
      "cell_type": "code",
      "execution_count": 2,
      "metadata": {
        "id": "DrOombvpqLQu"
      },
      "outputs": [],
      "source": [
        "import pandas as pd\n",
        "import numpy as np\n",
        "import joblib\n",
        "import logging\n",
        "from sklearn.model_selection import train_test_split, GridSearchCV\n",
        "from sklearn.impute import KNNImputer\n",
        "from sklearn.preprocessing import StandardScaler\n",
        "from sklearn.metrics import classification_report, accuracy_score\n",
        "from sklearn.svm import SVC\n",
        "from sklearn.ensemble import RandomForestClassifier\n",
        "from sklearn.linear_model import LogisticRegression\n",
        "from sklearn.neighbors import KNeighborsClassifier\n",
        "from sklearn.tree import DecisionTreeClassifier"
      ]
    },
    {
      "cell_type": "code",
      "source": [
        "# Load the dataset\n",
        "df = pd.read_csv(\"Stroke-prediction/healthcare-dataset-stroke-data.csv\")\n",
        "\n",
        "print(\"--- First 5 rows of the dataset ---\")\n",
        "print(df.head())\n",
        "\n",
        "print(\"\\n--- Dataset Shape ---\")\n",
        "print(f\"Rows: {df.shape[0]}, Columns: {df.shape[1]}\")\n",
        "\n",
        "print(\"\\n--- Dataset Information ---\")\n",
        "df.info()\n",
        "\n",
        "print(\"\\n--- Descriptive Statistics ---\")\n",
        "print(df.describe())"
      ],
      "metadata": {
        "colab": {
          "base_uri": "https://localhost:8080/"
        },
        "id": "EuKVwsszd-4l",
        "outputId": "8c44c5be-c6c8-4926-8a1c-8a469dacd55a"
      },
      "execution_count": 3,
      "outputs": [
        {
          "output_type": "stream",
          "name": "stdout",
          "text": [
            "--- First 5 rows of the dataset ---\n",
            "      id  gender   age  hypertension  heart_disease ever_married  \\\n",
            "0   9046    Male  67.0             0              1          Yes   \n",
            "1  51676  Female  61.0             0              0          Yes   \n",
            "2  31112    Male  80.0             0              1          Yes   \n",
            "3  60182  Female  49.0             0              0          Yes   \n",
            "4   1665  Female  79.0             1              0          Yes   \n",
            "\n",
            "       work_type Residence_type  avg_glucose_level   bmi   smoking_status  \\\n",
            "0        Private          Urban             228.69  36.6  formerly smoked   \n",
            "1  Self-employed          Rural             202.21   NaN     never smoked   \n",
            "2        Private          Rural             105.92  32.5     never smoked   \n",
            "3        Private          Urban             171.23  34.4           smokes   \n",
            "4  Self-employed          Rural             174.12  24.0     never smoked   \n",
            "\n",
            "   stroke  \n",
            "0       1  \n",
            "1       1  \n",
            "2       1  \n",
            "3       1  \n",
            "4       1  \n",
            "\n",
            "--- Dataset Shape ---\n",
            "Rows: 5110, Columns: 12\n",
            "\n",
            "--- Dataset Information ---\n",
            "<class 'pandas.core.frame.DataFrame'>\n",
            "RangeIndex: 5110 entries, 0 to 5109\n",
            "Data columns (total 12 columns):\n",
            " #   Column             Non-Null Count  Dtype  \n",
            "---  ------             --------------  -----  \n",
            " 0   id                 5110 non-null   int64  \n",
            " 1   gender             5110 non-null   object \n",
            " 2   age                5110 non-null   float64\n",
            " 3   hypertension       5110 non-null   int64  \n",
            " 4   heart_disease      5110 non-null   int64  \n",
            " 5   ever_married       5110 non-null   object \n",
            " 6   work_type          5110 non-null   object \n",
            " 7   Residence_type     5110 non-null   object \n",
            " 8   avg_glucose_level  5110 non-null   float64\n",
            " 9   bmi                4909 non-null   float64\n",
            " 10  smoking_status     5110 non-null   object \n",
            " 11  stroke             5110 non-null   int64  \n",
            "dtypes: float64(3), int64(4), object(5)\n",
            "memory usage: 479.2+ KB\n",
            "\n",
            "--- Descriptive Statistics ---\n",
            "                 id          age  hypertension  heart_disease  \\\n",
            "count   5110.000000  5110.000000   5110.000000    5110.000000   \n",
            "mean   36517.829354    43.226614      0.097456       0.054012   \n",
            "std    21161.721625    22.612647      0.296607       0.226063   \n",
            "min       67.000000     0.080000      0.000000       0.000000   \n",
            "25%    17741.250000    25.000000      0.000000       0.000000   \n",
            "50%    36932.000000    45.000000      0.000000       0.000000   \n",
            "75%    54682.000000    61.000000      0.000000       0.000000   \n",
            "max    72940.000000    82.000000      1.000000       1.000000   \n",
            "\n",
            "       avg_glucose_level          bmi       stroke  \n",
            "count        5110.000000  4909.000000  5110.000000  \n",
            "mean          106.147677    28.893237     0.048728  \n",
            "std            45.283560     7.854067     0.215320  \n",
            "min            55.120000    10.300000     0.000000  \n",
            "25%            77.245000    23.500000     0.000000  \n",
            "50%            91.885000    28.100000     0.000000  \n",
            "75%           114.090000    33.100000     0.000000  \n",
            "max           271.740000    97.600000     1.000000  \n"
          ]
        }
      ]
    },
    {
      "cell_type": "code",
      "execution_count": 4,
      "metadata": {
        "colab": {
          "base_uri": "https://localhost:8080/"
        },
        "id": "1MmjnkcFqLQ3",
        "outputId": "8079614d-25f5-4846-8619-d3e2838cb83c"
      },
      "outputs": [
        {
          "output_type": "stream",
          "name": "stdout",
          "text": [
            "\n",
            "--- Missing Values Count per Column ---\n",
            "id                     0\n",
            "gender                 0\n",
            "age                    0\n",
            "hypertension           0\n",
            "heart_disease          0\n",
            "ever_married           0\n",
            "work_type              0\n",
            "Residence_type         0\n",
            "avg_glucose_level      0\n",
            "bmi                  201\n",
            "smoking_status         0\n",
            "stroke                 0\n",
            "dtype: int64\n",
            "\n",
            "--- Column Names ---\n",
            "['id', 'gender', 'age', 'hypertension', 'heart_disease', 'ever_married', 'work_type', 'Residence_type', 'avg_glucose_level', 'bmi', 'smoking_status', 'stroke']\n"
          ]
        }
      ],
      "source": [
        "print(\"\\n--- Missing Values Count per Column ---\")\n",
        "print(df.isna().sum())\n",
        "\n",
        "print(\"\\n--- Column Names ---\")\n",
        "print(df.columns.tolist())\n"
      ]
    },
    {
      "cell_type": "code",
      "source": [
        "### 3. Handle Missing Values (BMI)\n",
        "\n",
        "# The 'bmi' column has missing values, which will be imputed using KNNImputer.\n",
        "imputer = KNNImputer(n_neighbors=5)\n",
        "df['bmi'] = imputer.fit_transform(df[['bmi']])\n",
        "\n",
        "print(\"\\n--- Missing Values after BMI Imputation ---\")\n",
        "print(df.isna().sum())"
      ],
      "metadata": {
        "colab": {
          "base_uri": "https://localhost:8080/"
        },
        "id": "OvbJ2Ce8tS8p",
        "outputId": "45e5f337-7c74-45f6-caa7-5f2de1266c60"
      },
      "execution_count": 5,
      "outputs": [
        {
          "output_type": "stream",
          "name": "stdout",
          "text": [
            "\n",
            "--- Missing Values after BMI Imputation ---\n",
            "id                   0\n",
            "gender               0\n",
            "age                  0\n",
            "hypertension         0\n",
            "heart_disease        0\n",
            "ever_married         0\n",
            "work_type            0\n",
            "Residence_type       0\n",
            "avg_glucose_level    0\n",
            "bmi                  0\n",
            "smoking_status       0\n",
            "stroke               0\n",
            "dtype: int64\n"
          ]
        }
      ]
    },
    {
      "cell_type": "code",
      "execution_count": 6,
      "metadata": {
        "id": "PSVsKHFzqLQ6"
      },
      "outputs": [],
      "source": [
        "# from sklearn.impute import KNNImputer"
      ]
    },
    {
      "cell_type": "code",
      "execution_count": 7,
      "metadata": {
        "id": "Z3dv7J31qLQ7"
      },
      "outputs": [],
      "source": [
        "# imputer = KNNImputer(n_neighbors = 5)\n",
        "# df['bmi'] = imputer.fit_transform(df[['bmi']])"
      ]
    },
    {
      "cell_type": "markdown",
      "metadata": {
        "id": "Q6CDOh1nqLQ_"
      },
      "source": [
        "### Exploratory Data Analysis"
      ]
    },
    {
      "cell_type": "code",
      "source": [
        "### 4. Exploratory Data Analysis (EDA)\n",
        "\n",
        "# EDA helps to analyze and investigate data sets and summarize their main characteristics,\n",
        "# often employing data visualization methods.\n",
        "# Libraries for visualization (EDA)\n",
        "import matplotlib.pyplot as plt\n",
        "import seaborn as sns\n",
        "print(\"--- Stroke vs. Non-Stroke Distribution ---\")\n",
        "fig, axes = plt.subplots(figsize=(8, 4))\n",
        "df['stroke'].value_counts(normalize=True).plot.bar(width=0.2, color=('red','green'))\n",
        "plt.title('Proportion of Stroke Cases')\n",
        "plt.xlabel('Stroke (0: No, 1: Yes)')\n",
        "plt.ylabel('Proportion')\n",
        "plt.tight_layout()\n",
        "plt.show()"
      ],
      "metadata": {
        "colab": {
          "base_uri": "https://localhost:8080/",
          "height": 424
        },
        "id": "_h_GxnV8tbwg",
        "outputId": "ff0b9b03-04c2-4c8b-c89a-01ab91106c2c"
      },
      "execution_count": 8,
      "outputs": [
        {
          "output_type": "stream",
          "name": "stdout",
          "text": [
            "--- Stroke vs. Non-Stroke Distribution ---\n"
          ]
        },
        {
          "output_type": "display_data",
          "data": {
            "text/plain": [
              "<Figure size 800x400 with 1 Axes>"
            ],
            "image/png": "[encoded data removed]"
          },
          "metadata": {}
        }
      ]
    },
    {
      "cell_type": "markdown",
      "metadata": {
        "id": "wv_yWwfvqLQ_"
      },
      "source": [
        "Exploratory data analysis (EDA) is used to analyze and investigate data sets and summarize their main characteristics, often employing data visualization methods."
      ]
    },
    {
      "cell_type": "code",
      "execution_count": 9,
      "metadata": {
        "colab": {
          "base_uri": "https://localhost:8080/",
          "height": 206
        },
        "id": "tfTe_sB4qLRA",
        "outputId": "aed677ad-aa73-401b-b111-4803dad97399"
      },
      "outputs": [
        {
          "output_type": "execute_result",
          "data": {
            "text/plain": [
              "    age  hypertension  heart_disease  avg_glucose_level        bmi\n",
              "0  67.0             0              1             228.69  36.600000\n",
              "1  61.0             0              0             202.21  28.893237\n",
              "2  80.0             0              1             105.92  32.500000\n",
              "3  49.0             0              0             171.23  34.400000\n",
              "4  79.0             1              0             174.12  24.000000"
            ],
            "text/html": [
              "\n",
              "  <div id=\"df-9f4688de-c5f2-4e68-8a59-c559434a3853\" class=\"colab-df-container\">\n",
              "    <div>\n",
              "<style scoped>\n",
              "    .dataframe tbody tr th:only-of-type {\n",
              "        vertical-align: middle;\n",
              "    }\n",
              "\n",
              "    .dataframe tbody tr th {\n",
              "        vertical-align: top;\n",
              "    }\n",
              "\n",
              "    .dataframe thead th {\n",
              "        text-align: right;\n",
              "    }\n",
              "</style>\n",
              "<table border=\"1\" class=\"dataframe\">\n",
              "  <thead>\n",
              "    <tr style=\"text-align: right;\">\n",
              "      <th></th>\n",
              "      <th>age</th>\n",
              "      <th>hypertension</th>\n",
              "      <th>heart_disease</th>\n",
              "      <th>avg_glucose_level</th>\n",
              "      <th>bmi</th>\n",
              "    </tr>\n",
              "  </thead>\n",
              "  <tbody>\n",
              "    <tr>\n",
              "      <th>0</th>\n",
              "      <td>67.0</td>\n",
              "      <td>0</td>\n",
              "      <td>1</td>\n",
              "      <td>228.69</td>\n",
              "      <td>36.600000</td>\n",
              "    </tr>\n",
              "    <tr>\n",
              "      <th>1</th>\n",
              "      <td>61.0</td>\n",
              "      <td>0</td>\n",
              "      <td>0</td>\n",
              "      <td>202.21</td>\n",
              "      <td>28.893237</td>\n",
              "    </tr>\n",
              "    <tr>\n",
              "      <th>2</th>\n",
              "      <td>80.0</td>\n",
              "      <td>0</td>\n",
              "      <td>1</td>\n",
              "      <td>105.92</td>\n",
              "      <td>32.500000</td>\n",
              "    </tr>\n",
              "    <tr>\n",
              "      <th>3</th>\n",
              "      <td>49.0</td>\n",
              "      <td>0</td>\n",
              "      <td>0</td>\n",
              "      <td>171.23</td>\n",
              "      <td>34.400000</td>\n",
              "    </tr>\n",
              "    <tr>\n",
              "      <th>4</th>\n",
              "      <td>79.0</td>\n",
              "      <td>1</td>\n",
              "      <td>0</td>\n",
              "      <td>174.12</td>\n",
              "      <td>24.000000</td>\n",
              "    </tr>\n",
              "  </tbody>\n",
              "</table>\n",
              "</div>\n",
              "    <div class=\"colab-df-buttons\">\n",
              "\n",
              "  <div class=\"colab-df-container\">\n",
              "    <button class=\"colab-df-convert\" onclick=\"convertToInteractive('df-9f4688de-c5f2-4e68-8a59-c559434a3853')\"\n",
              "            title=\"Convert this dataframe to an interactive table.\"\n",
              "            style=\"display:none;\">\n",
              "\n",
              "  <svg xmlns=\"http://www.w3.org/2000/svg\" height=\"24px\" viewBox=\"0 -960 960 960\">\n",
              "    <path d=\"M120-120v-720h720v720H120Zm60-500h600v-160H180v160Zm220 220h160v-160H400v160Zm0 220h160v-160H400v160ZM180-400h160v-160H180v160Zm440 0h160v-160H620v160ZM180-180h160v-160H180v160Zm440 0h160v-160H620v160Z\"/>\n",
              "  </svg>\n",
              "    </button>\n",
              "\n",
              "  <style>\n",
              "    .colab-df-container {\n",
              "      display:flex;\n",
              "      gap: 12px;\n",
              "    }\n",
              "\n",
              "    .colab-df-convert {\n",
              "      background-color: #E8F0FE;\n",
              "      border: none;\n",
              "      border-radius: 50%;\n",
              "      cursor: pointer;\n",
              "      display: none;\n",
              "      fill: #1967D2;\n",
              "      height: 32px;\n",
              "      padding: 0 0 0 0;\n",
              "      width: 32px;\n",
              "    }\n",
              "\n",
              "    .colab-df-convert:hover {\n",
              "      background-color: #E2EBFA;\n",
              "      box-shadow: 0px 1px 2px rgba(60, 64, 67, 0.3), 0px 1px 3px 1px rgba(60, 64, 67, 0.15);\n",
              "      fill: #174EA6;\n",
              "    }\n",
              "\n",
              "    .colab-df-buttons div {\n",
              "      margin-bottom: 4px;\n",
              "    }\n",
              "\n",
              "    [theme=dark] .colab-df-convert {\n",
              "      background-color: #3B4455;\n",
              "      fill: #D2E3FC;\n",
              "    }\n",
              "\n",
              "    [theme=dark] .colab-df-convert:hover {\n",
              "      background-color: #434B5C;\n",
              "      box-shadow: 0px 1px 3px 1px rgba(0, 0, 0, 0.15);\n",
              "      filter: drop-shadow(0px 1px 2px rgba(0, 0, 0, 0.3));\n",
              "      fill: #FFFFFF;\n",
              "    }\n",
              "  </style>\n",
              "\n",
              "    <script>\n",
              "      const buttonEl =\n",
              "        document.querySelector('#df-9f4688de-c5f2-4e68-8a59-c559434a3853 button.colab-df-convert');\n",
              "      buttonEl.style.display =\n",
              "        google.colab.kernel.accessAllowed ? 'block' : 'none';\n",
              "\n",
              "      async function convertToInteractive(key) {\n",
              "        const element = document.querySelector('#df-9f4688de-c5f2-4e68-8a59-c559434a3853');\n",
              "        const dataTable =\n",
              "          await google.colab.kernel.invokeFunction('convertToInteractive',\n",
              "                                                    [key], {});\n",
              "        if (!dataTable) return;\n",
              "\n",
              "        const docLinkHtml = 'Like what you see? Visit the ' +\n",
              "          '<a target=\"_blank\" href=https://colab.research.google.com/notebooks/data_table.ipynb>data table notebook</a>'\n",
              "          + ' to learn more about interactive tables.';\n",
              "        element.innerHTML = '';\n",
              "        dataTable['output_type'] = 'display_data';\n",
              "        await google.colab.output.renderOutput(dataTable, element);\n",
              "        const docLink = document.createElement('div');\n",
              "        docLink.innerHTML = docLinkHtml;\n",
              "        element.appendChild(docLink);\n",
              "      }\n",
              "    </script>\n",
              "  </div>\n",
              "\n",
              "\n",
              "    <div id=\"df-34576ae6-81b7-4850-b888-036e98bfb097\">\n",
              "      <button class=\"colab-df-quickchart\" onclick=\"quickchart('df-34576ae6-81b7-4850-b888-036e98bfb097')\"\n",
              "                title=\"Suggest charts\"\n",
              "                style=\"display:none;\">\n",
              "\n",
              "<svg xmlns=\"http://www.w3.org/2000/svg\" height=\"24px\"viewBox=\"0 0 24 24\"\n",
              "     width=\"24px\">\n",
              "    <g>\n",
              "        <path d=\"M19 3H5c-1.1 0-2 .9-2 2v14c0 1.1.9 2 2 2h14c1.1 0 2-.9 2-2V5c0-1.1-.9-2-2-2zM9 17H7v-7h2v7zm4 0h-2V7h2v10zm4 0h-2v-4h2v4z\"/>\n",
              "    </g>\n",
              "</svg>\n",
              "      </button>\n",
              "\n",
              "<style>\n",
              "  .colab-df-quickchart {\n",
              "      --bg-color: #E8F0FE;\n",
              "      --fill-color: #1967D2;\n",
              "      --hover-bg-color: #E2EBFA;\n",
              "      --hover-fill-color: #174EA6;\n",
              "      --disabled-fill-color: #AAA;\n",
              "      --disabled-bg-color: #DDD;\n",
              "  }\n",
              "\n",
              "  [theme=dark] .colab-df-quickchart {\n",
              "      --bg-color: #3B4455;\n",
              "      --fill-color: #D2E3FC;\n",
              "      --hover-bg-color: #434B5C;\n",
              "      --hover-fill-color: #FFFFFF;\n",
              "      --disabled-bg-color: #3B4455;\n",
              "      --disabled-fill-color: #666;\n",
              "  }\n",
              "\n",
              "  .colab-df-quickchart {\n",
              "    background-color: var(--bg-color);\n",
              "    border: none;\n",
              "    border-radius: 50%;\n",
              "    cursor: pointer;\n",
              "    display: none;\n",
              "    fill: var(--fill-color);\n",
              "    height: 32px;\n",
              "    padding: 0;\n",
              "    width: 32px;\n",
              "  }\n",
              "\n",
              "  .colab-df-quickchart:hover {\n",
              "    background-color: var(--hover-bg-color);\n",
              "    box-shadow: 0 1px 2px rgba(60, 64, 67, 0.3), 0 1px 3px 1px rgba(60, 64, 67, 0.15);\n",
              "    fill: var(--button-hover-fill-color);\n",
              "  }\n",
              "\n",
              "  .colab-df-quickchart-complete:disabled,\n",
              "  .colab-df-quickchart-complete:disabled:hover {\n",
              "    background-color: var(--disabled-bg-color);\n",
              "    fill: var(--disabled-fill-color);\n",
              "    box-shadow: none;\n",
              "  }\n",
              "\n",
              "  .colab-df-spinner {\n",
              "    border: 2px solid var(--fill-color);\n",
              "    border-color: transparent;\n",
              "    border-bottom-color: var(--fill-color);\n",
              "    animation:\n",
              "      spin 1s steps(1) infinite;\n",
              "  }\n",
              "\n",
              "  @keyframes spin {\n",
              "    0% {\n",
              "      border-color: transparent;\n",
              "      border-bottom-color: var(--fill-color);\n",
              "      border-left-color: var(--fill-color);\n",
              "    }\n",
              "    20% {\n",
              "      border-color: transparent;\n",
              "      border-left-color: var(--fill-color);\n",
              "      border-top-color: var(--fill-color);\n",
              "    }\n",
              "    30% {\n",
              "      border-color: transparent;\n",
              "      border-left-color: var(--fill-color);\n",
              "      border-top-color: var(--fill-color);\n",
              "      border-right-color: var(--fill-color);\n",
              "    }\n",
              "    40% {\n",
              "      border-color: transparent;\n",
              "      border-right-color: var(--fill-color);\n",
              "      border-top-color: var(--fill-color);\n",
              "    }\n",
              "    60% {\n",
              "      border-color: transparent;\n",
              "      border-right-color: var(--fill-color);\n",
              "    }\n",
              "    80% {\n",
              "      border-color: transparent;\n",
              "      border-right-color: var(--fill-color);\n",
              "      border-bottom-color: var(--fill-color);\n",
              "    }\n",
              "    90% {\n",
              "      border-color: transparent;\n",
              "      border-bottom-color: var(--fill-color);\n",
              "    }\n",
              "  }\n",
              "</style>\n",
              "\n",
              "      <script>\n",
              "        async function quickchart(key) {\n",
              "          const quickchartButtonEl =\n",
              "            document.querySelector('#' + key + ' button');\n",
              "          quickchartButtonEl.disabled = true;  // To prevent multiple clicks.\n",
              "          quickchartButtonEl.classList.add('colab-df-spinner');\n",
              "          try {\n",
              "            const charts = await google.colab.kernel.invokeFunction(\n",
              "                'suggestCharts', [key], {});\n",
              "          } catch (error) {\n",
              "            console.error('Error during call to suggestCharts:', error);\n",
              "          }\n",
              "          quickchartButtonEl.classList.remove('colab-df-spinner');\n",
              "          quickchartButtonEl.classList.add('colab-df-quickchart-complete');\n",
              "        }\n",
              "        (() => {\n",
              "          let quickchartButtonEl =\n",
              "            document.querySelector('#df-34576ae6-81b7-4850-b888-036e98bfb097 button');\n",
              "          quickchartButtonEl.style.display =\n",
              "            google.colab.kernel.accessAllowed ? 'block' : 'none';\n",
              "        })();\n",
              "      </script>\n",
              "    </div>\n",
              "\n",
              "    </div>\n",
              "  </div>\n"
            ],
            "application/vnd.google.colaboratory.intrinsic+json": {
              "type": "dataframe",
              "variable_name": "cols",
              "summary": "{\n  \"name\": \"cols\",\n  \"rows\": 5110,\n  \"fields\": [\n    {\n      \"column\": \"age\",\n      \"properties\": {\n        \"dtype\": \"number\",\n        \"std\": 22.61264672311352,\n        \"min\": 0.08,\n        \"max\": 82.0,\n        \"num_unique_values\": 104,\n        \"samples\": [\n          45.0,\n          24.0,\n          33.0\n        ],\n        \"semantic_type\": \"\",\n        \"description\": \"\"\n      }\n    },\n    {\n      \"column\": \"hypertension\",\n      \"properties\": {\n        \"dtype\": \"number\",\n        \"std\": 0,\n        \"min\": 0,\n        \"max\": 1,\n        \"num_unique_values\": 2,\n        \"samples\": [\n          1,\n          0\n        ],\n        \"semantic_type\": \"\",\n        \"description\": \"\"\n      }\n    },\n    {\n      \"column\": \"heart_disease\",\n      \"properties\": {\n        \"dtype\": \"number\",\n        \"std\": 0,\n        \"min\": 0,\n        \"max\": 1,\n        \"num_unique_values\": 2,\n        \"samples\": [\n          0,\n          1\n        ],\n        \"semantic_type\": \"\",\n        \"description\": \"\"\n      }\n    },\n    {\n      \"column\": \"avg_glucose_level\",\n      \"properties\": {\n        \"dtype\": \"number\",\n        \"std\": 45.28356015058203,\n        \"min\": 55.12,\n        \"max\": 271.74,\n        \"num_unique_values\": 3979,\n        \"samples\": [\n          178.29,\n          156.69\n        ],\n        \"semantic_type\": \"\",\n        \"description\": \"\"\n      }\n    },\n    {\n      \"column\": \"bmi\",\n      \"properties\": {\n        \"dtype\": \"number\",\n        \"std\": 7.698017826857077,\n        \"min\": 10.3,\n        \"max\": 97.6,\n        \"num_unique_values\": 419,\n        \"samples\": [\n          36.3,\n          17.4\n        ],\n        \"semantic_type\": \"\",\n        \"description\": \"\"\n      }\n    }\n  ]\n}"
            }
          },
          "metadata": {},
          "execution_count": 9
        }
      ],
      "source": [
        "cols = df[['age', 'hypertension', 'heart_disease', 'avg_glucose_level', 'bmi']]\n",
        "cols.head()"
      ]
    },
    {
      "cell_type": "code",
      "execution_count": null,
      "metadata": {
        "colab": {
          "base_uri": "https://localhost:8080/"
        },
        "id": "uAOv3zw6qLRB",
        "outputId": "f4b26ee9-80a9-4787-8f3c-b8caef3eb1a6"
      },
      "outputs": [
        {
          "output_type": "stream",
          "name": "stderr",
          "text": [
            "/tmp/ipython-input-2726950616.py:9: UserWarning: \n",
            "\n",
            "`distplot` is a deprecated function and will be removed in seaborn v0.14.0.\n",
            "\n",
            "Please adapt your code to use either `displot` (a figure-level function with\n",
            "similar flexibility) or `histplot` (an axes-level function for histograms).\n",
            "\n",
            "For a guide to updating your code to use the new functions, please see\n",
            "https://gist.github.com/mwaskom/de44147ed2974457ad6372750bbe5751\n",
            "\n",
            "  sns.distplot(cols[column])\n",
            "/tmp/ipython-input-2726950616.py:9: UserWarning: \n",
            "\n",
            "`distplot` is a deprecated function and will be removed in seaborn v0.14.0.\n",
            "\n",
            "Please adapt your code to use either `displot` (a figure-level function with\n",
            "similar flexibility) or `histplot` (an axes-level function for histograms).\n",
            "\n",
            "For a guide to updating your code to use the new functions, please see\n",
            "https://gist.github.com/mwaskom/de44147ed2974457ad6372750bbe5751\n",
            "\n",
            "  sns.distplot(cols[column])\n",
            "/tmp/ipython-input-2726950616.py:9: UserWarning: \n",
            "\n",
            "`distplot` is a deprecated function and will be removed in seaborn v0.14.0.\n",
            "\n",
            "Please adapt your code to use either `displot` (a figure-level function with\n",
            "similar flexibility) or `histplot` (an axes-level function for histograms).\n",
            "\n",
            "For a guide to updating your code to use the new functions, please see\n",
            "https://gist.github.com/mwaskom/de44147ed2974457ad6372750bbe5751\n",
            "\n",
            "  sns.distplot(cols[column])\n"
          ]
        }
      ],
      "source": [
        "# lets see how data is distributed for every column\n",
        "import seaborn as sns\n",
        "plt.figure(figsize=(20,30), facecolor='white')\n",
        "plotnumber=1\n",
        "\n",
        "for column in cols:\n",
        "    if plotnumber<=15:\n",
        "        ax = plt.subplot(5,3,plotnumber)\n",
        "        sns.distplot(cols[column])\n",
        "        plt.xlabel(column, fontsize=20)\n",
        "\n",
        "    plotnumber+=1\n",
        "plt.tight_layout()"
      ]
    },
    {
      "cell_type": "code",
      "source": [
        "# Optional: For comprehensive data profiling\n",
        "# !pip install pandas_profiling[notebook] # Uncomment and run if you want to generate the profile report\n",
        "# from pandas_profiling import ProfileReport"
      ],
      "metadata": {
        "id": "vTZEDbNeuK0s"
      },
      "execution_count": null,
      "outputs": []
    },
    {
      "cell_type": "code",
      "source": [
        "# Selecting numerical columns for distribution and outlier analysis\n",
        "numerical_cols = ['age', 'hypertension', 'heart_disease', 'avg_glucose_level', 'bmi']\n",
        "\n",
        "print(\"\\n--- Distribution of Numerical Features (Histogram/KDE) ---\")\n",
        "plt.figure(figsize=(20, 15)) # Adjusted figure size for better display\n",
        "plotnumber = 1\n",
        "for column in numerical_cols:\n",
        "    if plotnumber <= len(numerical_cols):\n",
        "        ax = plt.subplot(3, 2, plotnumber) # Adjusted subplot grid\n",
        "        sns.histplot(df[column], kde=True, ax=ax)\n",
        "        plt.xlabel(column, fontsize=15)\n",
        "        plt.ylabel('Density' if 'kde' in str(type(ax)) else 'Count', fontsize=12) # Dynamic label\n",
        "    plotnumber += 1\n",
        "plt.tight_layout()\n",
        "plt.show()\n",
        "\n",
        "print(\"\\n--- Outlier Detection for Numerical Features (Box Plots) ---\")\n",
        "plt.figure(figsize=(20, 15)) # Adjusted figure size\n",
        "plotnumber = 1\n",
        "for column in numerical_cols:\n",
        "    if plotnumber <= len(numerical_cols):\n",
        "        ax = plt.subplot(3, 2, plotnumber) # Adjusted subplot grid\n",
        "        sns.boxplot(y=df[column], ax=ax) # Use y for vertical box plot\n",
        "        plt.ylabel(column, fontsize=15)\n",
        "    plotnumber += 1\n",
        "plt.tight_layout()\n",
        "plt.show()\n",
        "\n",
        "print(\"\\n--- Distribution of Categorical Features (Count Plots) ---\")\n",
        "\n",
        "# The commented-out barplot code was good, let's include a similar one.\n"
      ],
      "metadata": {
        "id": "sox-EaVBuvOu"
      },
      "execution_count": null,
      "outputs": []
    },
    {
      "cell_type": "code",
      "source": [
        "categorical_features = ['gender', 'ever_married', 'work_type', 'Residence_type', 'smoking_status']\n",
        "\n",
        "plt.figure(figsize=(20, 12)) # Adjusted figure size\n",
        "plotnumber = 1\n",
        "for column in categorical_features:\n",
        "    if plotnumber <= len(categorical_features):\n",
        "        ax = plt.subplot(2, 3, plotnumber) # Adjusted subplot grid\n",
        "        sns.countplot(x=df[column], ax=ax, palette='viridis')\n",
        "        plt.xlabel(column, fontsize=15)\n",
        "        plt.ylabel('Count', fontsize=12)\n",
        "        plt.xticks(rotation=45, ha='right') # Rotate labels for better readability\n",
        "    plotnumber += 1\n",
        "plt.tight_layout()\n",
        "plt.show()\n",
        "\n",
        "\n",
        "print(\"\\n--- Relation between Categorical Features and Target (Stroke) ---\")"
      ],
      "metadata": {
        "id": "cd3gbTYMu83M"
      },
      "execution_count": null,
      "outputs": []
    },
    {
      "cell_type": "code",
      "source": [
        "plt.figure(figsize=(20, 12))\n",
        "plotnumber = 1\n",
        "for column in categorical_features:\n",
        "    if plotnumber <= len(categorical_features):\n",
        "        ax = plt.subplot(2, 3, plotnumber)\n",
        "        sns.barplot(x=df[column], y=df['stroke'], ax=ax, palette='coolwarm')\n",
        "        plt.xlabel(column, fontsize=15)\n",
        "        plt.ylabel('Stroke Probability', fontsize=12)\n",
        "        plt.xticks(rotation=45, ha='right')\n",
        "    plotnumber += 1\n",
        "plt.tight_layout()\n",
        "plt.show()"
      ],
      "metadata": {
        "id": "LijfvOyAvJ-4"
      },
      "execution_count": null,
      "outputs": []
    },
    {
      "cell_type": "code",
      "execution_count": null,
      "metadata": {
        "id": "mfIG2AsRqLRB"
      },
      "outputs": [],
      "source": [
        "# lets see outliers\n",
        "# import seaborn as sns\n",
        "# plt.figure(figsize=(20,30), facecolor='white')\n",
        "# plotnumber=1\n",
        "\n",
        "# for column in cols:\n",
        "#     if plotnumber<=15:\n",
        "#         ax = plt.subplot(5,3,plotnumber)\n",
        "#         sns.boxplot(cols[column])\n",
        "#         plt.xlabel(column, fontsize=20)\n",
        "\n",
        "#     plotnumber+=1\n",
        "# plt.tight_layout()"
      ]
    },
    {
      "cell_type": "code",
      "source": [
        "\n",
        "\n",
        "### 5. Feature Engineering: Handling Categorical Columns\n",
        "\n",
        "# One-hot encoding for categorical features\n",
        "# 'gender' column has an 'Other' category with very few samples,\n",
        "# which might be dropped or handled specifically if it causes issues.\n",
        "# For now, keeping as is but considering drop_first=True to avoid multicollinearity.\n",
        "\n",
        "gender_encoded = pd.get_dummies(df[['gender']], prefix='gender', drop_first=True)\n",
        "married_encoded = pd.get_dummies(df[['ever_married']], prefix='married', drop_first=True)\n",
        "work_encoded = pd.get_dummies(df[['work_type']], prefix='work', drop_first=True)\n",
        "residence_encoded = pd.get_dummies(df[['Residence_type']], prefix='residence', drop_first=True)\n",
        "smoking_encoded = pd.get_dummies(df[['smoking_status']], prefix='smoking', drop_first=True)\n",
        "\n",
        "# Combine original numerical features with new encoded categorical features\n",
        "data = pd.concat([\n",
        "    df.drop(columns=['gender', 'ever_married', 'work_type', 'Residence_type', 'smoking_status', 'id'], axis=1),\n",
        "    gender_encoded,\n",
        "    married_encoded,\n",
        "    work_encoded,\n",
        "    residence_encoded,\n",
        "    smoking_encoded\n",
        "], axis=1)\n",
        "\n",
        "print(\"\\n--- Data after One-Hot Encoding and dropping original categorical/id columns ---\")\n",
        "print(data.head())\n",
        "print(f\"New shape: {data.shape}\")\n",
        "print(f\"New columns: {data.columns.tolist()}\")"
      ],
      "metadata": {
        "id": "0ZyITifnvY30"
      },
      "execution_count": null,
      "outputs": []
    },
    {
      "cell_type": "code",
      "source": [
        "### 6. Correlation Analysis\n",
        "\n",
        "# Analyze the correlation of features with the target variable 'stroke'\n",
        "print(\"\\n--- Correlation of Features with 'stroke' ---\")\n",
        "corr = data.corr(numeric_only=True)['stroke'].sort_values(ascending=False).to_frame()\n",
        "plt.figure(figsize=(2, 8))\n",
        "sns.heatmap(corr, cmap='Blues', cbar=False, annot=True, fmt=\".2f\") # fmt=\".2f\" for 2 decimal places\n",
        "plt.title('Feature Correlation with Stroke')\n",
        "plt.show()"
      ],
      "metadata": {
        "id": "ZO1gGWRuvk-a"
      },
      "execution_count": null,
      "outputs": []
    },
    {
      "cell_type": "code",
      "source": [
        "from sklearn.model_selection import train_test_split\n",
        "from sklearn.compose import ColumnTransformer\n",
        "from sklearn.pipeline import Pipeline\n",
        "from sklearn.impute import KNNImputer\n",
        "from sklearn.preprocessing import OneHotEncoder, StandardScaler\n",
        "from sklearn.metrics import (accuracy_score, f1_score, roc_auc_score, average_precision_score,\n",
        "                             classification_report, ConfusionMatrixDisplay)\n",
        "from sklearn.ensemble import RandomForestClassifier\n",
        "import matplotlib.pyplot as plt\n",
        "import pandas as pd\n",
        "import numpy as np\n",
        "import joblib, os\n",
        "\n",
        "target_col = \"stroke\"\n",
        "cat_cols = [\"gender\",\"ever_married\",\"work_type\",\"Residence_type\",\"smoking_status\"]\n",
        "num_cols = [\"age\",\"hypertension\",\"heart_disease\",\"avg_glucose_level\",\"bmi\"]\n",
        "\n",
        "X = df[cat_cols + num_cols].copy()\n",
        "y = df[target_col].astype(int).copy()\n",
        "\n",
        "X_train, X_test, y_train, y_test = train_test_split(\n",
        "    X, y, test_size=0.33, random_state=42, stratify=y\n",
        ")\n",
        "\n",
        "num_tf = Pipeline([(\"impute\", KNNImputer(n_neighbors=5)), (\"scale\", StandardScaler())])\n",
        "cat_tf = OneHotEncoder(handle_unknown=\"ignore\")\n",
        "\n",
        "pre = ColumnTransformer([(\"num\", num_tf, num_cols), (\"cat\", cat_tf, cat_cols)], remainder=\"drop\")\n",
        "\n",
        "clf = RandomForestClassifier(\n",
        "    n_estimators=400, class_weight=\"balanced_subsample\", random_state=42\n",
        ")\n",
        "\n",
        "pipe = Pipeline([(\"pre\", pre), (\"clf\", clf)])\n",
        "pipe.fit(X_train, y_train)\n"
      ],
      "metadata": {
        "id": "UEv2aHBY16eu"
      },
      "execution_count": null,
      "outputs": []
    },
    {
      "cell_type": "code",
      "source": [],
      "metadata": {
        "id": "hnYh3rsJj2k_"
      },
      "execution_count": null,
      "outputs": []
    },
    {
      "cell_type": "code",
      "source": [
        "# ---- 5) Evaluate with proper metrics for imbalanced data\n",
        "y_prob = pipe.predict_proba(X_test)[:, 1]\n",
        "y_pred = (y_prob >= 0.5).astype(int)\n",
        "\n",
        "acc   = accuracy_score(y_test, y_pred)\n",
        "f1pos = f1_score(y_test, y_pred, pos_label=1)\n",
        "roc   = roc_auc_score(y_test, y_prob)\n",
        "pr    = average_precision_score(y_test, y_prob)  # PR-AUC\n",
        "\n",
        "print(f\"Accuracy={acc:.3f} | F1(+)= {f1pos:.3f} | ROC-AUC={roc:.3f} | PR-AUC={pr:.3f}\")\n",
        "print(classification_report(y_test, y_pred, digits=3))"
      ],
      "metadata": {
        "id": "_O3v15ht4gNx"
      },
      "execution_count": null,
      "outputs": []
    },
    {
      "cell_type": "code",
      "source": [
        "# ---- 6) Save artifacts (model, transformed test for XAI, confusion matrix)\n",
        "os.makedirs(\"models\", exist_ok=True)\n",
        "os.makedirs(\"data/processed\", exist_ok=True)\n",
        "os.makedirs(\"docs\", exist_ok=True)\n",
        "os.makedirs(\"docs/xai\", exist_ok=True)  # برای خروجی‌های SHAP بعداً"
      ],
      "metadata": {
        "id": "WENgqbPQ4u9q"
      },
      "execution_count": null,
      "outputs": []
    },
    {
      "cell_type": "code",
      "source": [
        "### 8. Model Training and Evaluation (With MLflow)\n",
        "!pip install mlflow\n",
        "import mlflow\n",
        "import mlflow.sklearn\n",
        "import mlflow\n",
        "import mlflow.sklearn\n",
        "import matplotlib.pyplot as plt\n",
        "from sklearn.metrics import accuracy_score, classification_report, ConfusionMatrixDisplay\n",
        "from sklearn.tree import DecisionTreeClassifier\n",
        "from sklearn.ensemble import RandomForestClassifier\n",
        "from sklearn.linear_model import LogisticRegression\n",
        "from sklearn.neighbors import KNeighborsClassifier\n",
        "from sklearn.svm import SVC\n",
        "import pickle\n",
        "\n",
        "# Define your models\n",
        "models = {\n",
        "    'Decision Tree': DecisionTreeClassifier(random_state=1),\n",
        "    'Random Forest': RandomForestClassifier(random_state=42),\n",
        "    'K-Nearest Neighbors': KNeighborsClassifier(),\n",
        "    'Support Vector Machine': SVC(probability=True),\n",
        "    'Logistic Regression': LogisticRegression(max_iter=1000)\n",
        "}\n",
        "\n",
        "# Set experiment\n",
        "y_prob = pipe.predict_proba(X_test)[:,1]\n",
        "y_pred = (y_prob >= 0.5).astype(int)\n",
        "\n",
        "from sklearn.metrics import average_precision_score, roc_auc_score, f1_score\n",
        "acc = accuracy_score(y_test, y_pred)\n",
        "f1p = f1_score(y_test, y_pred, pos_label=1)\n",
        "roc = roc_auc_score(y_test, y_prob)\n",
        "pr_auc = average_precision_score(y_test, y_prob)\n",
        "\n",
        "print(f\"Accuracy={acc:.3f} | F1(+)= {f1p:.3f} | ROC-AUC= {roc:.3f} | PR-AUC= {pr_auc:.3f}\")\n",
        "print(classification_report(y_test, y_pred, digits=3))\n",
        "\n",
        "mlflow.set_experiment(\"Stroke Prediction Experiment\")\n",
        "\n",
        "best_accuracy = 0\n",
        "best_model = None\n",
        "best_model_name = \"\"\n",
        "\n",
        "for name, model in models.items():\n",
        "    with mlflow.start_run(run_name=name):\n",
        "        # Train\n",
        "        model.fit(x_train, y_train.values.ravel())\n",
        "\n",
        "        # Predict\n",
        "        y_pred = model.predict(x_test)\n",
        "\n",
        "        # Metrics\n",
        "        acc = accuracy_score(y_test, y_pred)\n",
        "        report = classification_report(y_test, y_pred, output_dict=True)\n",
        "\n",
        "        # Log params & metrics\n",
        "        mlflow.log_param(\"model_type\", name)\n",
        "        mlflow.log_metric(\"accuracy\", acc)\n",
        "\n",
        "        for label, scores in report.items():\n",
        "            if isinstance(scores, dict):\n",
        "                for metric_name, value in scores.items():\n",
        "                    mlflow.log_metric(f\"{label}_{metric_name}\", value)\n",
        "\n",
        "        # Save Confusion Matrix\n",
        "        disp = ConfusionMatrixDisplay.from_predictions(y_test, y_pred)\n",
        "        disp.figure_.suptitle(f\"Confusion Matrix: {name}\")\n",
        "        cm_filename = f\"conf_matrix_{name}.png\"\n",
        "        plt.savefig(cm_filename)\n",
        "        plt.close()\n",
        "        mlflow.log_artifact(cm_filename)\n",
        "\n",
        "        # Track best model\n",
        "        if acc > best_accuracy:\n",
        "            best_accuracy = acc\n",
        "            best_model = model\n",
        "            best_model_name = name\n",
        "\n",
        "# ✅ Register the best model\n",
        "with mlflow.start_run(run_name=\"Register_Best_Model\"):\n",
        "    mlflow.log_param(\"best_model_name\", best_model_name)\n",
        "    mlflow.log_metric(\"best_accuracy\", best_accuracy)\n",
        "\n",
        "    mlflow.sklearn.log_model(\n",
        "        sk_model=best_model,\n",
        "        artifact_path=\"model\",\n",
        "        registered_model_name=\"StrokePredictionModel\"\n",
        "    )\n",
        "\n",
        "print(f\"\\n✅ Registered best model ({best_model_name}) with accuracy: {best_accuracy:.4f}\")\n",
        "\n",
        "# ✅ Save model and scaler for app usage\n",
        "with open(\"model_pickle.pkl\", 'wb') as f:\n",
        "    pickle.dump(best_model, f)\n",
        "with open(\"scaler.pkl\", 'wb') as f:\n",
        "    pickle.dump(scaler, f)\n",
        "\n",
        "\n",
        "# print(\"--- Training and Evaluating Different Models with MLflow ---\")\n",
        "\n",
        "# # Initialize MLflow experiment\n",
        "# mlflow.set_experiment(\"Stroke Prediction Experiment\")\n",
        "\n",
        "# # Dictionary of models to evaluate\n",
        "# models = {\n",
        "#     'Decision Tree': DecisionTreeClassifier(random_state=1),\n",
        "#     'Random Forest': RandomForestClassifier(random_state=42),\n",
        "#     'K-Nearest Neighbors': KNeighborsClassifier(),\n",
        "#     'Support Vector Machine': SVC(probability=True),\n",
        "#     'Logistic Regression': LogisticRegression(max_iter=1000)\n",
        "# }\n",
        "\n",
        "# for name, model in models.items():\n",
        "#     with mlflow.start_run(run_name=name):\n",
        "#         # Train the model\n",
        "#         model.fit(x_train, y_train.values.ravel())\n",
        "\n",
        "#         # Make predictions\n",
        "#         y_pred = model.predict(x_test)\n",
        "\n",
        "#         # Evaluate the model\n",
        "#         acc = accuracy_score(y_test, y_pred)\n",
        "#         report = classification_report(y_test, y_pred, output_dict=True)\n",
        "\n",
        "#         # Log parameters, metrics, and model\n",
        "#         mlflow.log_param(\"model_type\", name)\n",
        "#         mlflow.log_metric(\"accuracy\", acc)\n",
        "\n",
        "#         # Log each class precision, recall, and f1-score\n",
        "#         for label, scores in report.items():\n",
        "#             if isinstance(scores, dict):  # skip 'accuracy' which is a float\n",
        "#                 for metric_name, value in scores.items():\n",
        "#                     mlflow.log_metric(f\"{label}_{metric_name}\", value)\n",
        "\n",
        "#         # Log model\n",
        "#         mlflow.sklearn.log_model(model, f\"{name}_model\")\n",
        "\n",
        "#         # Optional: Save and log confusion matrix as an artifact\n",
        "#         from sklearn.metrics import ConfusionMatrixDisplay\n",
        "#         import matplotlib.pyplot as plt\n",
        "\n",
        "#         disp = ConfusionMatrixDisplay.from_predictions(y_test, y_pred)\n",
        "#         disp.figure_.suptitle(f\"Confusion Matrix: {name}\")\n",
        "#         cm_filename = f\"conf_matrix_{name}.png\"\n",
        "#         plt.savefig(cm_filename)\n",
        "#         plt.close()\n",
        "#         mlflow.log_artifact(cm_filename)\n",
        "\n",
        "# print(\"\\n✅ All models trained and logged to MLflow. Run `mlflow ui` to visualize results.\")\n",
        "\n",
        "\n",
        "# from sklearn.metrics import ConfusionMatrixDisplay\n",
        "# import matplotlib.pyplot as plt\n",
        "\n",
        "# # Set experiment\n",
        "# mlflow.set_experiment(\"Stroke Prediction Experiment\")\n",
        "\n",
        "# for name, model in models.items():\n",
        "#     with mlflow.start_run(run_name=name):\n",
        "\n",
        "#         # Train the model\n",
        "#         model.fit(x_train, y_train.values.ravel())\n",
        "\n",
        "#         # Predict\n",
        "#         y_pred = model.predict(x_test)\n",
        "\n",
        "#         # Metrics\n",
        "#         acc = accuracy_score(y_test, y_pred)\n",
        "#         report = classification_report(y_test, y_pred, output_dict=True)\n",
        "\n",
        "#         # Log params and metrics\n",
        "#         mlflow.log_param(\"model_type\", name)\n",
        "#         mlflow.log_metric(\"accuracy\", acc)\n",
        "\n",
        "#         for label, scores in report.items():\n",
        "#             if isinstance(scores, dict):\n",
        "#                 for metric_name, value in scores.items():\n",
        "#                     mlflow.log_metric(f\"{label}_{metric_name}\", value)\n",
        "\n",
        "#         # ✅ Log model + register it in MLflow Model Registry\n",
        "#         mlflow.sklearn.log_model(\n",
        "#             sk_model=model,\n",
        "#             artifact_path=\"model\",\n",
        "#             registered_model_name=\"StrokePredictionModel\"  # <- Model registry name\n",
        "#         )\n",
        "\n",
        "#         # ✅ Save Confusion Matrix\n",
        "#         disp = ConfusionMatrixDisplay.from_predictions(y_test, y_pred)\n",
        "#         disp.figure_.suptitle(f\"Confusion Matrix: {name}\")\n",
        "#         cm_filename = f\"conf_matrix_{name}.png\"\n",
        "#         plt.savefig(cm_filename)\n",
        "#         plt.close()\n",
        "\n",
        "#         mlflow.log_artifact(cm_filename)\n",
        "\n",
        "# print(\"\\n✅ All models trained, tracked, and registered in MLflow.\")\n"
      ],
      "metadata": {
        "id": "pA5U5BvE1WKp"
      },
      "execution_count": null,
      "outputs": []
    },
    {
      "cell_type": "code",
      "source": [],
      "metadata": {
        "id": "grtXRmfJPwbF"
      },
      "execution_count": null,
      "outputs": []
    },
    {
      "cell_type": "code",
      "source": [
        "### 9. Save the Best Model\n",
        "\n",
        "# It's good practice to save the best performing model. In this case, the GridSearchCV's best estimator.\n",
        "import pickle\n",
        "MODEL_FILENAME = 'model_pickle.pkl'\n",
        "\n",
        "# In this case, saving the last trained 'model' as 'best_svc_model' was not defined.\n",
        "# If hyperparameter tuning is performed, the best model should be saved here.\n",
        "with open(MODEL_FILENAME, 'wb') as file:\n",
        "    pickle.dump(model, file) # Changed from best_svc_model to model\n",
        "\n",
        "print(f\"\\nBest model (SVC) saved to '{MODEL_FILENAME}'\")\n",
        "\n",
        "# You might also want to save the scaler used for preprocessing, as it's needed for new predictions.\n",
        "SCALER_FILENAME = 'scaler.pkl'\n",
        "with open(SCALER_FILENAME, 'wb') as file:\n",
        "    pickle.dump(scaler, file)\n",
        "print(f\"Scaler saved to '{SCALER_FILENAME}'\")"
      ],
      "metadata": {
        "id": "k33iTWfuwNjO"
      },
      "execution_count": null,
      "outputs": []
    },
    {
      "cell_type": "code",
      "source": [
        "# --- Begin Security Testing ---\n",
        "import numpy as np\n",
        "from sklearn.metrics import accuracy_score\n",
        "\n",
        "def add_adversarial_noise(X, epsilon=0.05):\n",
        "    np.random.seed(42)\n",
        "    noise = epsilon * np.sign(np.random.randn(*X.shape))\n",
        "    return X + noise\n",
        "\n",
        "x_test_adv = add_adversarial_noise(x_test)\n",
        "y_pred_adv = model.predict(x_test_adv)\n",
        "\n",
        "adv_acc = accuracy_score(y_test, y_pred_adv)\n",
        "print(f\"🔐 Adversarial Test Accuracy: {adv_acc:.4f}\")\n",
        "\n",
        "import mlflow\n",
        "\n",
        "with mlflow.start_run(run_name=\"Security_Test_Adversarial\"):\n",
        "    mlflow.log_param(\"attack_type\", \"random_noise\")\n",
        "    mlflow.log_param(\"epsilon\", 0.05)\n",
        "    mlflow.log_metric(\"adv_accuracy\", adv_acc)\n",
        "    mlflow.sklearn.log_model(model, \"adversarial_model\")\n",
        "\n",
        "    print(\"✅ Adversarial test logged to MLflow.\")\n"
      ],
      "metadata": {
        "id": "0UtYDggOP2Kp"
      },
      "execution_count": null,
      "outputs": []
    }
  ],
  "metadata": {
    "kernelspec": {
      "display_name": "Python 3",
      "language": "python",
      "name": "python3"
    },
    "language_info": {
      "codemirror_mode": {
        "name": "ipython",
        "version": 3
      },
      "file_extension": ".py",
      "mimetype": "text/x-python",
      "name": "python",
      "nbconvert_exporter": "python",
      "pygments_lexer": "ipython3",
      "version": "3.8.2"
    },
    "colab": {
      "provenance": [],
      "include_colab_link": true
    }
  },
  "nbformat": 4,
  "nbformat_minor": 0
}